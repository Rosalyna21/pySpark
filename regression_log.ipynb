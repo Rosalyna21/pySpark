{
 "cells": [
  {
   "cell_type": "code",
   "execution_count": 1,
   "id": "6b5d080f",
   "metadata": {},
   "outputs": [
    {
     "name": "stdout",
     "output_type": "stream",
     "text": [
      "Collecting pyspark\n",
      "  Using cached pyspark-3.4.1.tar.gz (310.8 MB)\n",
      "  Preparing metadata (setup.py): started\n",
      "  Preparing metadata (setup.py): finished with status 'done'\n",
      "Collecting py4j==0.10.9.7 (from pyspark)\n",
      "  Using cached py4j-0.10.9.7-py2.py3-none-any.whl (200 kB)\n",
      "Building wheels for collected packages: pyspark\n",
      "  Building wheel for pyspark (setup.py): started\n",
      "  Building wheel for pyspark (setup.py): still running...\n",
      "  Building wheel for pyspark (setup.py): finished with status 'done'\n",
      "  Created wheel for pyspark: filename=pyspark-3.4.1-py2.py3-none-any.whl size=311285432 sha256=f267b2588dac9b405e532a40129e094ad6a89bb5c0da0069a04953eca1aab761\n",
      "  Stored in directory: c:\\users\\rose des vents\\appdata\\local\\pip\\cache\\wheels\\0d\\77\\a3\\ff2f74cc9ab41f8f594dabf0579c2a7c6de920d584206e0834\n",
      "Successfully built pyspark\n",
      "Installing collected packages: py4j, pyspark\n",
      "Successfully installed py4j-0.10.9.7 pyspark-3.4.1\n"
     ]
    }
   ],
   "source": [
    "!pip install pyspark"
   ]
  },
  {
   "cell_type": "code",
   "execution_count": 5,
   "id": "d914960a",
   "metadata": {},
   "outputs": [],
   "source": [
    "import os\n",
    "import pandas as pd\n",
    "import numpy as np"
   ]
  },
  {
   "cell_type": "code",
   "execution_count": 3,
   "id": "af158275",
   "metadata": {},
   "outputs": [
    {
     "name": "stdout",
     "output_type": "stream",
     "text": [
      "Collecting numpy\n",
      "  Obtaining dependency information for numpy from https://files.pythonhosted.org/packages/b7/db/4d37359e2c9cf8bf071c08b8a6f7374648a5ab2e76e2e22e3b808f81d507/numpy-1.25.2-cp310-cp310-win_amd64.whl.metadata\n",
      "  Downloading numpy-1.25.2-cp310-cp310-win_amd64.whl.metadata (5.7 kB)\n",
      "Downloading numpy-1.25.2-cp310-cp310-win_amd64.whl (15.6 MB)\n",
      "   ---------------------------------------- 0.0/15.6 MB ? eta -:--:--\n",
      "   ---------------------------------------- 0.0/15.6 MB ? eta -:--:--\n",
      "   ---------------------------------------- 0.0/15.6 MB ? eta -:--:--\n",
      "   ---------------------------------------- 0.1/15.6 MB 656.4 kB/s eta 0:00:24\n",
      "   ---------------------------------------- 0.2/15.6 MB 1.4 MB/s eta 0:00:11\n",
      "    --------------------------------------- 0.3/15.6 MB 1.7 MB/s eta 0:00:09\n",
      "   - -------------------------------------- 0.6/15.6 MB 2.7 MB/s eta 0:00:06\n",
      "   -- ------------------------------------- 0.9/15.6 MB 3.3 MB/s eta 0:00:05\n",
      "   -- ------------------------------------- 1.1/15.6 MB 3.5 MB/s eta 0:00:05\n",
      "   --- ------------------------------------ 1.3/15.6 MB 3.6 MB/s eta 0:00:04\n",
      "   --- ------------------------------------ 1.4/15.6 MB 3.5 MB/s eta 0:00:05\n",
      "   --- ------------------------------------ 1.5/15.6 MB 3.5 MB/s eta 0:00:04\n",
      "   ---- ----------------------------------- 1.8/15.6 MB 3.6 MB/s eta 0:00:04\n",
      "   ----- ---------------------------------- 2.0/15.6 MB 3.7 MB/s eta 0:00:04\n",
      "   ----- ---------------------------------- 2.2/15.6 MB 3.8 MB/s eta 0:00:04\n",
      "   ------ --------------------------------- 2.4/15.6 MB 3.8 MB/s eta 0:00:04\n",
      "   ------ --------------------------------- 2.7/15.6 MB 4.0 MB/s eta 0:00:04\n",
      "   ------- -------------------------------- 2.9/15.6 MB 3.9 MB/s eta 0:00:04\n",
      "   -------- ------------------------------- 3.2/15.6 MB 4.1 MB/s eta 0:00:04\n",
      "   -------- ------------------------------- 3.4/15.6 MB 4.1 MB/s eta 0:00:03\n",
      "   --------- ------------------------------ 3.5/15.6 MB 4.1 MB/s eta 0:00:03\n",
      "   --------- ------------------------------ 3.8/15.6 MB 4.1 MB/s eta 0:00:03\n",
      "   ---------- ----------------------------- 4.0/15.6 MB 4.1 MB/s eta 0:00:03\n",
      "   ---------- ----------------------------- 4.2/15.6 MB 4.2 MB/s eta 0:00:03\n",
      "   ----------- ---------------------------- 4.5/15.6 MB 4.3 MB/s eta 0:00:03\n",
      "   ------------ --------------------------- 4.7/15.6 MB 4.3 MB/s eta 0:00:03\n",
      "   ------------ --------------------------- 5.0/15.6 MB 4.3 MB/s eta 0:00:03\n",
      "   ------------- -------------------------- 5.2/15.6 MB 4.3 MB/s eta 0:00:03\n",
      "   ------------- -------------------------- 5.4/15.6 MB 4.3 MB/s eta 0:00:03\n",
      "   -------------- ------------------------- 5.7/15.6 MB 4.3 MB/s eta 0:00:03\n",
      "   --------------- ------------------------ 5.9/15.6 MB 4.3 MB/s eta 0:00:03\n",
      "   --------------- ------------------------ 6.1/15.6 MB 4.3 MB/s eta 0:00:03\n",
      "   ---------------- ----------------------- 6.3/15.6 MB 4.4 MB/s eta 0:00:03\n",
      "   ---------------- ----------------------- 6.6/15.6 MB 4.4 MB/s eta 0:00:03\n",
      "   ----------------- ---------------------- 6.9/15.6 MB 4.4 MB/s eta 0:00:02\n",
      "   ------------------ --------------------- 7.1/15.6 MB 4.4 MB/s eta 0:00:02\n",
      "   ------------------ --------------------- 7.3/15.6 MB 4.4 MB/s eta 0:00:02\n",
      "   ------------------- -------------------- 7.4/15.6 MB 4.4 MB/s eta 0:00:02\n",
      "   ------------------- -------------------- 7.7/15.6 MB 4.4 MB/s eta 0:00:02\n",
      "   -------------------- ------------------- 7.9/15.6 MB 4.4 MB/s eta 0:00:02\n",
      "   -------------------- ------------------- 8.0/15.6 MB 4.4 MB/s eta 0:00:02\n",
      "   --------------------- ------------------ 8.3/15.6 MB 4.4 MB/s eta 0:00:02\n",
      "   --------------------- ------------------ 8.5/15.6 MB 4.4 MB/s eta 0:00:02\n",
      "   ---------------------- ----------------- 8.7/15.6 MB 4.4 MB/s eta 0:00:02\n",
      "   ----------------------- ---------------- 8.9/15.6 MB 4.4 MB/s eta 0:00:02\n",
      "   ----------------------- ---------------- 9.1/15.6 MB 4.4 MB/s eta 0:00:02\n",
      "   ------------------------ --------------- 9.4/15.6 MB 4.4 MB/s eta 0:00:02\n",
      "   ------------------------ --------------- 9.6/15.6 MB 4.4 MB/s eta 0:00:02\n",
      "   ------------------------- -------------- 9.8/15.6 MB 4.4 MB/s eta 0:00:02\n",
      "   ------------------------- -------------- 10.0/15.6 MB 4.4 MB/s eta 0:00:02\n",
      "   -------------------------- ------------- 10.3/15.6 MB 4.5 MB/s eta 0:00:02\n",
      "   -------------------------- ------------- 10.5/15.6 MB 4.5 MB/s eta 0:00:02\n",
      "   --------------------------- ------------ 10.7/15.6 MB 4.5 MB/s eta 0:00:02\n",
      "   ---------------------------- ----------- 10.9/15.6 MB 4.5 MB/s eta 0:00:02\n",
      "   ---------------------------- ----------- 11.1/15.6 MB 4.5 MB/s eta 0:00:01\n",
      "   ----------------------------- ---------- 11.3/15.6 MB 4.5 MB/s eta 0:00:01\n",
      "   ----------------------------- ---------- 11.6/15.6 MB 4.5 MB/s eta 0:00:01\n",
      "   ------------------------------ --------- 11.7/15.6 MB 4.6 MB/s eta 0:00:01\n",
      "   ------------------------------ --------- 11.9/15.6 MB 4.5 MB/s eta 0:00:01\n",
      "   ------------------------------- -------- 12.1/15.6 MB 4.5 MB/s eta 0:00:01\n",
      "   ------------------------------- -------- 12.2/15.6 MB 4.5 MB/s eta 0:00:01\n",
      "   ------------------------------- -------- 12.4/15.6 MB 4.5 MB/s eta 0:00:01\n",
      "   -------------------------------- ------- 12.5/15.6 MB 4.4 MB/s eta 0:00:01\n",
      "   -------------------------------- ------- 12.8/15.6 MB 4.4 MB/s eta 0:00:01\n",
      "   --------------------------------- ------ 13.0/15.6 MB 4.5 MB/s eta 0:00:01\n",
      "   --------------------------------- ------ 13.2/15.6 MB 4.4 MB/s eta 0:00:01\n",
      "   ---------------------------------- ----- 13.5/15.6 MB 4.4 MB/s eta 0:00:01\n",
      "   ----------------------------------- ---- 13.7/15.6 MB 4.5 MB/s eta 0:00:01\n",
      "   ----------------------------------- ---- 14.0/15.6 MB 4.5 MB/s eta 0:00:01\n",
      "   ------------------------------------ --- 14.1/15.6 MB 4.4 MB/s eta 0:00:01\n",
      "   ------------------------------------ --- 14.4/15.6 MB 4.4 MB/s eta 0:00:01\n",
      "   ------------------------------------- -- 14.4/15.6 MB 4.3 MB/s eta 0:00:01\n",
      "   ------------------------------------- -- 14.8/15.6 MB 4.3 MB/s eta 0:00:01\n",
      "   -------------------------------------- - 15.0/15.6 MB 4.3 MB/s eta 0:00:01\n",
      "   -------------------------------------- - 15.2/15.6 MB 4.3 MB/s eta 0:00:01\n",
      "   ---------------------------------------  15.4/15.6 MB 4.3 MB/s eta 0:00:01\n",
      "   ---------------------------------------  15.6/15.6 MB 4.3 MB/s eta 0:00:01\n",
      "   ---------------------------------------  15.6/15.6 MB 4.3 MB/s eta 0:00:01\n",
      "   ---------------------------------------- 15.6/15.6 MB 4.1 MB/s eta 0:00:00\n",
      "Installing collected packages: numpy\n",
      "Successfully installed numpy-1.25.2\n"
     ]
    }
   ],
   "source": [
    "#!pip install numpy"
   ]
  },
  {
   "cell_type": "code",
   "execution_count": 4,
   "id": "69388194",
   "metadata": {},
   "outputs": [
    {
     "name": "stdout",
     "output_type": "stream",
     "text": [
      "Collecting pandas\n",
      "  Obtaining dependency information for pandas from https://files.pythonhosted.org/packages/c5/89/ce1c7dc497f9a20644f6a7d2dd5bce6378a48321955178197fa3b55d6fe3/pandas-2.1.0-cp310-cp310-win_amd64.whl.metadata\n",
      "  Downloading pandas-2.1.0-cp310-cp310-win_amd64.whl.metadata (18 kB)\n",
      "Requirement already satisfied: numpy>=1.22.4 in c:\\users\\rose des vents\\anaconda3\\envs\\spark\\lib\\site-packages (from pandas) (1.25.2)\n",
      "Requirement already satisfied: python-dateutil>=2.8.2 in c:\\users\\rose des vents\\anaconda3\\envs\\spark\\lib\\site-packages (from pandas) (2.8.2)\n",
      "Collecting pytz>=2020.1 (from pandas)\n",
      "  Obtaining dependency information for pytz>=2020.1 from https://files.pythonhosted.org/packages/32/4d/aaf7eff5deb402fd9a24a1449a8119f00d74ae9c2efa79f8ef9994261fc2/pytz-2023.3.post1-py2.py3-none-any.whl.metadata\n",
      "  Downloading pytz-2023.3.post1-py2.py3-none-any.whl.metadata (22 kB)\n",
      "Collecting tzdata>=2022.1 (from pandas)\n",
      "  Downloading tzdata-2023.3-py2.py3-none-any.whl (341 kB)\n",
      "     ---------------------------------------- 0.0/341.8 kB ? eta -:--:--\n",
      "     -------- ------------------------------ 71.7/341.8 kB 2.0 MB/s eta 0:00:01\n",
      "     ----------------- -------------------- 153.6/341.8 kB 1.8 MB/s eta 0:00:01\n",
      "     ----------------------------------- -- 317.4/341.8 kB 2.5 MB/s eta 0:00:01\n",
      "     -------------------------------------- 341.8/341.8 kB 2.4 MB/s eta 0:00:00\n",
      "Requirement already satisfied: six>=1.5 in c:\\users\\rose des vents\\anaconda3\\envs\\spark\\lib\\site-packages (from python-dateutil>=2.8.2->pandas) (1.16.0)\n",
      "Downloading pandas-2.1.0-cp310-cp310-win_amd64.whl (11.1 MB)\n",
      "   ---------------------------------------- 0.0/11.1 MB ? eta -:--:--\n",
      "   ---------------------------------------- 0.1/11.1 MB 2.6 MB/s eta 0:00:05\n",
      "   - -------------------------------------- 0.3/11.1 MB 4.1 MB/s eta 0:00:03\n",
      "   - -------------------------------------- 0.4/11.1 MB 3.4 MB/s eta 0:00:04\n",
      "   -- ------------------------------------- 0.6/11.1 MB 3.2 MB/s eta 0:00:04\n",
      "   -- ------------------------------------- 0.7/11.1 MB 3.1 MB/s eta 0:00:04\n",
      "   -- ------------------------------------- 0.8/11.1 MB 3.0 MB/s eta 0:00:04\n",
      "   --- ------------------------------------ 1.0/11.1 MB 3.3 MB/s eta 0:00:04\n",
      "   ---- ----------------------------------- 1.3/11.1 MB 3.5 MB/s eta 0:00:03\n",
      "   ---- ----------------------------------- 1.4/11.1 MB 3.3 MB/s eta 0:00:03\n",
      "   ----- ---------------------------------- 1.5/11.1 MB 3.3 MB/s eta 0:00:03\n",
      "   ----- ---------------------------------- 1.6/11.1 MB 3.3 MB/s eta 0:00:03\n",
      "   ------ --------------------------------- 1.8/11.1 MB 3.3 MB/s eta 0:00:03\n",
      "   ------- -------------------------------- 2.0/11.1 MB 3.3 MB/s eta 0:00:03\n",
      "   ------- -------------------------------- 2.0/11.1 MB 3.1 MB/s eta 0:00:03\n",
      "   ------- -------------------------------- 2.1/11.1 MB 3.1 MB/s eta 0:00:03\n",
      "   ------- -------------------------------- 2.2/11.1 MB 3.0 MB/s eta 0:00:04\n",
      "   -------- ------------------------------- 2.3/11.1 MB 2.9 MB/s eta 0:00:04\n",
      "   -------- ------------------------------- 2.4/11.1 MB 2.9 MB/s eta 0:00:03\n",
      "   --------- ------------------------------ 2.6/11.1 MB 2.9 MB/s eta 0:00:03\n",
      "   --------- ------------------------------ 2.7/11.1 MB 3.0 MB/s eta 0:00:03\n",
      "   ---------- ----------------------------- 2.9/11.1 MB 2.9 MB/s eta 0:00:03\n",
      "   ---------- ----------------------------- 3.0/11.1 MB 3.0 MB/s eta 0:00:03\n",
      "   ----------- ---------------------------- 3.1/11.1 MB 2.9 MB/s eta 0:00:03\n",
      "   ------------ --------------------------- 3.3/11.1 MB 3.0 MB/s eta 0:00:03\n",
      "   ------------ --------------------------- 3.5/11.1 MB 3.0 MB/s eta 0:00:03\n",
      "   ------------- -------------------------- 3.7/11.1 MB 3.1 MB/s eta 0:00:03\n",
      "   -------------- ------------------------- 3.9/11.1 MB 3.1 MB/s eta 0:00:03\n",
      "   -------------- ------------------------- 4.1/11.1 MB 3.2 MB/s eta 0:00:03\n",
      "   --------------- ------------------------ 4.2/11.1 MB 3.1 MB/s eta 0:00:03\n",
      "   --------------- ------------------------ 4.4/11.1 MB 3.1 MB/s eta 0:00:03\n",
      "   ---------------- ----------------------- 4.5/11.1 MB 3.1 MB/s eta 0:00:03\n",
      "   ---------------- ----------------------- 4.7/11.1 MB 3.1 MB/s eta 0:00:03\n",
      "   ----------------- ---------------------- 4.9/11.1 MB 3.2 MB/s eta 0:00:02\n",
      "   ------------------ --------------------- 5.1/11.1 MB 3.2 MB/s eta 0:00:02\n",
      "   ------------------ --------------------- 5.2/11.1 MB 3.2 MB/s eta 0:00:02\n",
      "   ------------------- -------------------- 5.4/11.1 MB 3.2 MB/s eta 0:00:02\n",
      "   -------------------- ------------------- 5.6/11.1 MB 3.2 MB/s eta 0:00:02\n",
      "   -------------------- ------------------- 5.8/11.1 MB 3.3 MB/s eta 0:00:02\n",
      "   --------------------- ------------------ 6.0/11.1 MB 3.3 MB/s eta 0:00:02\n",
      "   --------------------- ------------------ 6.1/11.1 MB 3.3 MB/s eta 0:00:02\n",
      "   ---------------------- ----------------- 6.2/11.1 MB 3.3 MB/s eta 0:00:02\n",
      "   ----------------------- ---------------- 6.4/11.1 MB 3.3 MB/s eta 0:00:02\n",
      "   ----------------------- ---------------- 6.6/11.1 MB 3.3 MB/s eta 0:00:02\n",
      "   ------------------------ --------------- 6.7/11.1 MB 3.3 MB/s eta 0:00:02\n",
      "   ------------------------- -------------- 7.0/11.1 MB 3.3 MB/s eta 0:00:02\n",
      "   ------------------------- -------------- 7.1/11.1 MB 3.3 MB/s eta 0:00:02\n",
      "   -------------------------- ------------- 7.3/11.1 MB 3.3 MB/s eta 0:00:02\n",
      "   -------------------------- ------------- 7.5/11.1 MB 3.3 MB/s eta 0:00:02\n",
      "   --------------------------- ------------ 7.6/11.1 MB 3.4 MB/s eta 0:00:02\n",
      "   --------------------------- ------------ 7.7/11.1 MB 3.3 MB/s eta 0:00:02\n",
      "   ---------------------------- ----------- 7.8/11.1 MB 3.3 MB/s eta 0:00:01\n",
      "   ---------------------------- ----------- 8.0/11.1 MB 3.3 MB/s eta 0:00:01\n",
      "   ----------------------------- ---------- 8.1/11.1 MB 3.3 MB/s eta 0:00:01\n",
      "   ------------------------------ --------- 8.3/11.1 MB 3.3 MB/s eta 0:00:01\n",
      "   ------------------------------ --------- 8.5/11.1 MB 3.3 MB/s eta 0:00:01\n",
      "   ------------------------------- -------- 8.7/11.1 MB 3.3 MB/s eta 0:00:01\n",
      "   -------------------------------- ------- 8.9/11.1 MB 3.4 MB/s eta 0:00:01\n",
      "   -------------------------------- ------- 9.1/11.1 MB 3.4 MB/s eta 0:00:01\n",
      "   --------------------------------- ------ 9.3/11.1 MB 3.4 MB/s eta 0:00:01\n",
      "   ---------------------------------- ----- 9.5/11.1 MB 3.4 MB/s eta 0:00:01\n",
      "   ---------------------------------- ----- 9.6/11.1 MB 3.4 MB/s eta 0:00:01\n",
      "   ----------------------------------- ---- 9.8/11.1 MB 3.4 MB/s eta 0:00:01\n",
      "   ------------------------------------ --- 10.0/11.1 MB 3.4 MB/s eta 0:00:01\n",
      "   ------------------------------------ --- 10.2/11.1 MB 3.4 MB/s eta 0:00:01\n",
      "   ------------------------------------- -- 10.3/11.1 MB 3.4 MB/s eta 0:00:01\n",
      "   ------------------------------------- -- 10.4/11.1 MB 3.4 MB/s eta 0:00:01\n",
      "   -------------------------------------- - 10.7/11.1 MB 3.4 MB/s eta 0:00:01\n",
      "   ---------------------------------------  10.9/11.1 MB 3.5 MB/s eta 0:00:01\n",
      "   ---------------------------------------  11.1/11.1 MB 3.5 MB/s eta 0:00:01\n",
      "   ---------------------------------------  11.1/11.1 MB 3.5 MB/s eta 0:00:01\n",
      "   ---------------------------------------- 11.1/11.1 MB 3.4 MB/s eta 0:00:00\n",
      "Downloading pytz-2023.3.post1-py2.py3-none-any.whl (502 kB)\n",
      "   ---------------------------------------- 0.0/502.5 kB ? eta -:--:--\n",
      "   --------- ------------------------------ 122.9/502.5 kB 7.0 MB/s eta 0:00:01\n",
      "   ------------------------------ --------- 389.1/502.5 kB 4.9 MB/s eta 0:00:01\n",
      "   ---------------------------------------- 502.5/502.5 kB 4.5 MB/s eta 0:00:00\n",
      "Installing collected packages: pytz, tzdata, pandas\n",
      "Successfully installed pandas-2.1.0 pytz-2023.3.post1 tzdata-2023.3\n"
     ]
    }
   ],
   "source": [
    "#!pip install pandas"
   ]
  },
  {
   "cell_type": "code",
   "execution_count": 6,
   "id": "57cb0474",
   "metadata": {},
   "outputs": [],
   "source": [
    "from pyspark import SparkConf, SparkContext\n",
    "from pyspark.sql import SparkSession, SQLContext\n",
    "\n",
    "from pyspark.sql.types import *\n",
    "import pyspark.sql.functions as F\n",
    "from pyspark.sql.functions import udf, col"
   ]
  },
  {
   "cell_type": "code",
   "execution_count": 7,
   "id": "deb33009",
   "metadata": {},
   "outputs": [],
   "source": [
    "from pyspark.ml.regression import LinearRegression\n",
    "from pyspark.mllib.evaluation import RegressionMetrics\n",
    "\n",
    "from pyspark.ml.tuning import ParamGridBuilder, CrossValidator, CrossValidatorModel\n",
    "from pyspark.ml.feature import VectorAssembler, StandardScaler\n",
    "from pyspark.ml.evaluation import RegressionEvaluator"
   ]
  },
  {
   "cell_type": "code",
   "execution_count": 10,
   "id": "bfc4c848",
   "metadata": {},
   "outputs": [],
   "source": [
    "import seaborn as sns\n",
    "import matplotlib.pyplot as plt"
   ]
  },
  {
   "cell_type": "code",
   "execution_count": 9,
   "id": "a6fd018d",
   "metadata": {},
   "outputs": [
    {
     "name": "stdout",
     "output_type": "stream",
     "text": [
      "Collecting seaborn\n",
      "  Downloading seaborn-0.12.2-py3-none-any.whl (293 kB)\n",
      "     ---------------------------------------- 0.0/293.3 kB ? eta -:--:--\n",
      "     - -------------------------------------- 10.2/293.3 kB ? eta -:--:--\n",
      "     - -------------------------------------- 10.2/293.3 kB ? eta -:--:--\n",
      "     --- --------------------------------- 30.7/293.3 kB 262.6 kB/s eta 0:00:01\n",
      "     ------------- ---------------------- 112.6/293.3 kB 656.4 kB/s eta 0:00:01\n",
      "     ------------------------- ---------- 204.8/293.3 kB 958.4 kB/s eta 0:00:01\n",
      "     -------------------------------------- 293.3/293.3 kB 1.2 MB/s eta 0:00:00\n",
      "Requirement already satisfied: numpy!=1.24.0,>=1.17 in c:\\users\\rose des vents\\anaconda3\\envs\\spark\\lib\\site-packages (from seaborn) (1.25.2)\n",
      "Requirement already satisfied: pandas>=0.25 in c:\\users\\rose des vents\\anaconda3\\envs\\spark\\lib\\site-packages (from seaborn) (2.1.0)\n",
      "Collecting matplotlib!=3.6.1,>=3.1 (from seaborn)\n",
      "  Obtaining dependency information for matplotlib!=3.6.1,>=3.1 from https://files.pythonhosted.org/packages/7a/94/a1615bac6706eb8a58fe08675b80a11b5463ef9591176dd3e57257495774/matplotlib-3.8.0-cp310-cp310-win_amd64.whl.metadata\n",
      "  Downloading matplotlib-3.8.0-cp310-cp310-win_amd64.whl.metadata (5.9 kB)\n",
      "Collecting contourpy>=1.0.1 (from matplotlib!=3.6.1,>=3.1->seaborn)\n",
      "  Obtaining dependency information for contourpy>=1.0.1 from https://files.pythonhosted.org/packages/94/0a/5eb57dd395fade977786b2d2c98c2bee8234358794be44422fe58a719d42/contourpy-1.1.0-cp310-cp310-win_amd64.whl.metadata\n",
      "  Downloading contourpy-1.1.0-cp310-cp310-win_amd64.whl.metadata (5.7 kB)\n",
      "Collecting cycler>=0.10 (from matplotlib!=3.6.1,>=3.1->seaborn)\n",
      "  Downloading cycler-0.11.0-py3-none-any.whl (6.4 kB)\n",
      "Collecting fonttools>=4.22.0 (from matplotlib!=3.6.1,>=3.1->seaborn)\n",
      "  Obtaining dependency information for fonttools>=4.22.0 from https://files.pythonhosted.org/packages/1c/c6/408ee90eae2fd7ef85c5baaedfc8d533805f4c54fc6670dbde9539f1277b/fonttools-4.42.1-cp310-cp310-win_amd64.whl.metadata\n",
      "  Downloading fonttools-4.42.1-cp310-cp310-win_amd64.whl.metadata (154 kB)\n",
      "     ---------------------------------------- 0.0/154.1 kB ? eta -:--:--\n",
      "     ------------------------------ ------- 122.9/154.1 kB 3.6 MB/s eta 0:00:01\n",
      "     -------------------------------------- 154.1/154.1 kB 3.1 MB/s eta 0:00:00\n",
      "Collecting kiwisolver>=1.0.1 (from matplotlib!=3.6.1,>=3.1->seaborn)\n",
      "  Obtaining dependency information for kiwisolver>=1.0.1 from https://files.pythonhosted.org/packages/4a/a1/8a9c9be45c642fa12954855d8b3a02d9fd8551165a558835a19508fec2e6/kiwisolver-1.4.5-cp310-cp310-win_amd64.whl.metadata\n",
      "  Downloading kiwisolver-1.4.5-cp310-cp310-win_amd64.whl.metadata (6.5 kB)\n",
      "Requirement already satisfied: packaging>=20.0 in c:\\users\\rose des vents\\anaconda3\\envs\\spark\\lib\\site-packages (from matplotlib!=3.6.1,>=3.1->seaborn) (23.1)\n",
      "Collecting pillow>=6.2.0 (from matplotlib!=3.6.1,>=3.1->seaborn)\n",
      "  Obtaining dependency information for pillow>=6.2.0 from https://files.pythonhosted.org/packages/d0/4f/faebe1180e5e6ad6330c539dda7f6081182157393ba6816a438f759a0e59/Pillow-10.0.0-cp310-cp310-win_amd64.whl.metadata\n",
      "  Downloading Pillow-10.0.0-cp310-cp310-win_amd64.whl.metadata (9.6 kB)\n",
      "Collecting pyparsing>=2.3.1 (from matplotlib!=3.6.1,>=3.1->seaborn)\n",
      "  Obtaining dependency information for pyparsing>=2.3.1 from https://files.pythonhosted.org/packages/39/92/8486ede85fcc088f1b3dba4ce92dd29d126fd96b0008ea213167940a2475/pyparsing-3.1.1-py3-none-any.whl.metadata\n",
      "  Downloading pyparsing-3.1.1-py3-none-any.whl.metadata (5.1 kB)\n",
      "Requirement already satisfied: python-dateutil>=2.7 in c:\\users\\rose des vents\\anaconda3\\envs\\spark\\lib\\site-packages (from matplotlib!=3.6.1,>=3.1->seaborn) (2.8.2)\n",
      "Requirement already satisfied: pytz>=2020.1 in c:\\users\\rose des vents\\anaconda3\\envs\\spark\\lib\\site-packages (from pandas>=0.25->seaborn) (2023.3.post1)\n",
      "Requirement already satisfied: tzdata>=2022.1 in c:\\users\\rose des vents\\anaconda3\\envs\\spark\\lib\\site-packages (from pandas>=0.25->seaborn) (2023.3)\n",
      "Requirement already satisfied: six>=1.5 in c:\\users\\rose des vents\\anaconda3\\envs\\spark\\lib\\site-packages (from python-dateutil>=2.7->matplotlib!=3.6.1,>=3.1->seaborn) (1.16.0)\n",
      "Downloading matplotlib-3.8.0-cp310-cp310-win_amd64.whl (7.6 MB)\n",
      "   ---------------------------------------- 0.0/7.6 MB ? eta -:--:--\n",
      "   ---------------------------------------- 0.1/7.6 MB 2.2 MB/s eta 0:00:04\n",
      "   - -------------------------------------- 0.2/7.6 MB 2.3 MB/s eta 0:00:04\n",
      "   -- ------------------------------------- 0.4/7.6 MB 3.3 MB/s eta 0:00:03\n",
      "   -- ------------------------------------- 0.5/7.6 MB 3.1 MB/s eta 0:00:03\n",
      "   --- ------------------------------------ 0.7/7.6 MB 2.9 MB/s eta 0:00:03\n",
      "   ---- ----------------------------------- 0.8/7.6 MB 2.9 MB/s eta 0:00:03\n",
      "   ----- ---------------------------------- 1.0/7.6 MB 3.0 MB/s eta 0:00:03\n",
      "   ----- ---------------------------------- 1.1/7.6 MB 3.1 MB/s eta 0:00:03\n",
      "   ------ --------------------------------- 1.2/7.6 MB 3.0 MB/s eta 0:00:03\n",
      "   ------- -------------------------------- 1.4/7.6 MB 3.1 MB/s eta 0:00:03\n",
      "   -------- ------------------------------- 1.6/7.6 MB 3.2 MB/s eta 0:00:02\n",
      "   --------- ------------------------------ 1.9/7.6 MB 3.4 MB/s eta 0:00:02\n",
      "   ---------- ----------------------------- 2.1/7.6 MB 3.5 MB/s eta 0:00:02\n",
      "   ------------ --------------------------- 2.3/7.6 MB 3.6 MB/s eta 0:00:02\n",
      "   ------------- -------------------------- 2.5/7.6 MB 3.7 MB/s eta 0:00:02\n",
      "   -------------- ------------------------- 2.7/7.6 MB 3.6 MB/s eta 0:00:02\n",
      "   --------------- ------------------------ 2.9/7.6 MB 3.6 MB/s eta 0:00:02\n",
      "   ---------------- ----------------------- 3.1/7.6 MB 3.7 MB/s eta 0:00:02\n",
      "   ----------------- ---------------------- 3.3/7.6 MB 3.7 MB/s eta 0:00:02\n",
      "   ------------------ --------------------- 3.4/7.6 MB 3.7 MB/s eta 0:00:02\n",
      "   ------------------ --------------------- 3.6/7.6 MB 3.7 MB/s eta 0:00:02\n",
      "   ------------------- -------------------- 3.8/7.6 MB 3.7 MB/s eta 0:00:02\n",
      "   --------------------- ------------------ 4.0/7.6 MB 3.8 MB/s eta 0:00:01\n",
      "   ---------------------- ----------------- 4.2/7.6 MB 3.8 MB/s eta 0:00:01\n",
      "   ---------------------- ----------------- 4.3/7.6 MB 3.7 MB/s eta 0:00:01\n",
      "   ----------------------- ---------------- 4.5/7.6 MB 3.7 MB/s eta 0:00:01\n",
      "   ------------------------ --------------- 4.7/7.6 MB 3.7 MB/s eta 0:00:01\n",
      "   ------------------------- -------------- 4.9/7.6 MB 3.7 MB/s eta 0:00:01\n",
      "   -------------------------- ------------- 5.0/7.6 MB 3.7 MB/s eta 0:00:01\n",
      "   --------------------------- ------------ 5.2/7.6 MB 3.8 MB/s eta 0:00:01\n",
      "   ---------------------------- ----------- 5.5/7.6 MB 3.8 MB/s eta 0:00:01\n",
      "   ----------------------------- ---------- 5.6/7.6 MB 3.7 MB/s eta 0:00:01\n",
      "   ------------------------------ --------- 5.8/7.6 MB 3.8 MB/s eta 0:00:01\n",
      "   ------------------------------- -------- 6.0/7.6 MB 3.8 MB/s eta 0:00:01\n",
      "   -------------------------------- ------- 6.2/7.6 MB 3.8 MB/s eta 0:00:01\n",
      "   --------------------------------- ------ 6.4/7.6 MB 3.8 MB/s eta 0:00:01\n",
      "   ---------------------------------- ----- 6.5/7.6 MB 3.8 MB/s eta 0:00:01\n",
      "   ----------------------------------- ---- 6.8/7.6 MB 3.8 MB/s eta 0:00:01\n",
      "   ------------------------------------ --- 7.0/7.6 MB 3.9 MB/s eta 0:00:01\n",
      "   ------------------------------------- -- 7.2/7.6 MB 3.9 MB/s eta 0:00:01\n",
      "   -------------------------------------- - 7.4/7.6 MB 3.9 MB/s eta 0:00:01\n",
      "   ---------------------------------------  7.5/7.6 MB 3.8 MB/s eta 0:00:01\n",
      "   ---------------------------------------  7.6/7.6 MB 3.8 MB/s eta 0:00:01\n",
      "   ---------------------------------------- 7.6/7.6 MB 3.7 MB/s eta 0:00:00\n",
      "Downloading contourpy-1.1.0-cp310-cp310-win_amd64.whl (470 kB)\n",
      "   ---------------------------------------- 0.0/470.4 kB ? eta -:--:--\n",
      "   -------------- ------------------------- 174.1/470.4 kB 5.3 MB/s eta 0:00:01\n",
      "   -------------------------- ------------- 307.2/470.4 kB 3.8 MB/s eta 0:00:01\n",
      "   ---------------------------------------  460.8/470.4 kB 3.6 MB/s eta 0:00:01\n",
      "   ---------------------------------------- 470.4/470.4 kB 3.3 MB/s eta 0:00:00\n",
      "Downloading fonttools-4.42.1-cp310-cp310-win_amd64.whl (2.1 MB)\n",
      "   ---------------------------------------- 0.0/2.1 MB ? eta -:--:--\n",
      "   ---- ----------------------------------- 0.2/2.1 MB 5.0 MB/s eta 0:00:01\n",
      "   ------ --------------------------------- 0.4/2.1 MB 4.6 MB/s eta 0:00:01\n",
      "   ---------- ----------------------------- 0.6/2.1 MB 4.3 MB/s eta 0:00:01\n",
      "   ------------- -------------------------- 0.7/2.1 MB 4.0 MB/s eta 0:00:01\n",
      "   ---------------- ----------------------- 0.9/2.1 MB 3.7 MB/s eta 0:00:01\n",
      "   -------------------- ------------------- 1.1/2.1 MB 4.1 MB/s eta 0:00:01\n",
      "   ---------------------- ----------------- 1.2/2.1 MB 3.8 MB/s eta 0:00:01\n",
      "   ------------------------- -------------- 1.4/2.1 MB 3.7 MB/s eta 0:00:01\n",
      "   --------------------------- ------------ 1.4/2.1 MB 3.4 MB/s eta 0:00:01\n",
      "   ---------------------------- ----------- 1.5/2.1 MB 3.3 MB/s eta 0:00:01\n",
      "   ------------------------------- -------- 1.7/2.1 MB 3.3 MB/s eta 0:00:01\n",
      "   ----------------------------------- ---- 1.9/2.1 MB 3.4 MB/s eta 0:00:01\n",
      "   ---------------------------------------  2.1/2.1 MB 3.5 MB/s eta 0:00:01\n",
      "   ---------------------------------------- 2.1/2.1 MB 3.4 MB/s eta 0:00:00\n",
      "Downloading kiwisolver-1.4.5-cp310-cp310-win_amd64.whl (56 kB)\n",
      "   ---------------------------------------- 0.0/56.1 kB ? eta -:--:--\n",
      "   ---------------------------------------- 56.1/56.1 kB 1.5 MB/s eta 0:00:00\n",
      "Downloading Pillow-10.0.0-cp310-cp310-win_amd64.whl (2.5 MB)\n",
      "   ---------------------------------------- 0.0/2.5 MB ? eta -:--:--\n",
      "    --------------------------------------- 0.1/2.5 MB 1.7 MB/s eta 0:00:02\n",
      "   -- ------------------------------------- 0.1/2.5 MB 2.1 MB/s eta 0:00:02\n",
      "   ---- ----------------------------------- 0.3/2.5 MB 2.2 MB/s eta 0:00:02\n",
      "   ------- -------------------------------- 0.5/2.5 MB 2.7 MB/s eta 0:00:01\n",
      "   ---------- ----------------------------- 0.6/2.5 MB 2.9 MB/s eta 0:00:01\n",
      "   ------------- -------------------------- 0.9/2.5 MB 3.2 MB/s eta 0:00:01\n",
      "   --------------- ------------------------ 1.0/2.5 MB 3.1 MB/s eta 0:00:01\n",
      "   ------------------ --------------------- 1.2/2.5 MB 3.3 MB/s eta 0:00:01\n",
      "   ---------------------- ----------------- 1.4/2.5 MB 3.4 MB/s eta 0:00:01\n",
      "   ----------------------- ---------------- 1.5/2.5 MB 3.2 MB/s eta 0:00:01\n",
      "   -------------------------- ------------- 1.7/2.5 MB 3.3 MB/s eta 0:00:01\n",
      "   ---------------------------- ----------- 1.8/2.5 MB 3.3 MB/s eta 0:00:01\n",
      "   -------------------------------- ------- 2.0/2.5 MB 3.4 MB/s eta 0:00:01\n",
      "   --------------------------------- ------ 2.1/2.5 MB 3.3 MB/s eta 0:00:01\n",
      "   ------------------------------------ --- 2.3/2.5 MB 3.3 MB/s eta 0:00:01\n",
      "   ---------------------------------------  2.5/2.5 MB 3.4 MB/s eta 0:00:01\n",
      "   ---------------------------------------- 2.5/2.5 MB 3.2 MB/s eta 0:00:00\n",
      "Downloading pyparsing-3.1.1-py3-none-any.whl (103 kB)\n",
      "   ---------------------------------------- 0.0/103.1 kB ? eta -:--:--\n",
      "   ---------------------------------------- 103.1/103.1 kB 3.0 MB/s eta 0:00:00\n",
      "Installing collected packages: pyparsing, pillow, kiwisolver, fonttools, cycler, contourpy, matplotlib, seaborn\n",
      "Successfully installed contourpy-1.1.0 cycler-0.11.0 fonttools-4.42.1 kiwisolver-1.4.5 matplotlib-3.8.0 pillow-10.0.0 pyparsing-3.1.1 seaborn-0.12.2\n"
     ]
    }
   ],
   "source": [
    "#!pip install seaborn"
   ]
  },
  {
   "cell_type": "code",
   "execution_count": 11,
   "id": "143b6e0f",
   "metadata": {},
   "outputs": [],
   "source": [
    "# Visualization\n",
    "from IPython.core.interactiveshell import InteractiveShell\n",
    "InteractiveShell.ast_node_interactivity = \"all\"\n",
    "\n",
    "pd.set_option('display.max_columns', 200)\n",
    "pd.set_option('display.max_colwidth', 400)\n",
    "\n",
    "from matplotlib import rcParams\n",
    "sns.set(context='notebook', style='whitegrid', rc={'figure.figsize': (18,4)})\n",
    "rcParams['figure.figsize'] = 18,4\n",
    "\n",
    "%matplotlib inline\n",
    "%config InlineBackend.figure_format = 'retina'"
   ]
  },
  {
   "cell_type": "code",
   "execution_count": 12,
   "id": "2d04e648",
   "metadata": {},
   "outputs": [],
   "source": [
    "#creating session spark\n",
    "spark = SparkSession.builder.master(\"local[2]\").appName(\"classifier.mushroom\").getOrCreate()"
   ]
  },
  {
   "cell_type": "code",
   "execution_count": 13,
   "id": "13baece0",
   "metadata": {},
   "outputs": [
    {
     "data": {
      "text/html": [
       "\n",
       "            <div>\n",
       "                <p><b>SparkSession - in-memory</b></p>\n",
       "                \n",
       "        <div>\n",
       "            <p><b>SparkContext</b></p>\n",
       "\n",
       "            <p><a href=\"http://DESKTOP-P18M6EE:4041\">Spark UI</a></p>\n",
       "\n",
       "            <dl>\n",
       "              <dt>Version</dt>\n",
       "                <dd><code>v3.4.1</code></dd>\n",
       "              <dt>Master</dt>\n",
       "                <dd><code>local[2]</code></dd>\n",
       "              <dt>AppName</dt>\n",
       "                <dd><code>classifier.mushroom</code></dd>\n",
       "            </dl>\n",
       "        </div>\n",
       "        \n",
       "            </div>\n",
       "        "
      ],
      "text/plain": [
       "<pyspark.sql.session.SparkSession at 0x16941896b60>"
      ]
     },
     "execution_count": 13,
     "metadata": {},
     "output_type": "execute_result"
    }
   ],
   "source": [
    "spark"
   ]
  },
  {
   "cell_type": "code",
   "execution_count": 14,
   "id": "b22e90cf",
   "metadata": {},
   "outputs": [
    {
     "data": {
      "text/html": [
       "\n",
       "        <div>\n",
       "            <p><b>SparkContext</b></p>\n",
       "\n",
       "            <p><a href=\"http://DESKTOP-P18M6EE:4041\">Spark UI</a></p>\n",
       "\n",
       "            <dl>\n",
       "              <dt>Version</dt>\n",
       "                <dd><code>v3.4.1</code></dd>\n",
       "              <dt>Master</dt>\n",
       "                <dd><code>local[2]</code></dd>\n",
       "              <dt>AppName</dt>\n",
       "                <dd><code>classifier.mushroom</code></dd>\n",
       "            </dl>\n",
       "        </div>\n",
       "        "
      ],
      "text/plain": [
       "<SparkContext master=local[2] appName=classifier.mushroom>"
      ]
     },
     "execution_count": 14,
     "metadata": {},
     "output_type": "execute_result"
    }
   ],
   "source": [
    "sc = spark.sparkContext\n",
    "sc"
   ]
  },
  {
   "cell_type": "code",
   "execution_count": 15,
   "id": "0b17d486",
   "metadata": {},
   "outputs": [
    {
     "name": "stderr",
     "output_type": "stream",
     "text": [
      "c:\\Users\\Rose des vents\\anaconda3\\envs\\Spark\\lib\\site-packages\\pyspark\\sql\\context.py:112: FutureWarning: Deprecated in 3.0.0. Use SparkSession.builder.getOrCreate() instead.\n",
      "  warnings.warn(\n"
     ]
    },
    {
     "data": {
      "text/plain": [
       "<pyspark.sql.context.SQLContext at 0x16941896f20>"
      ]
     },
     "execution_count": 15,
     "metadata": {},
     "output_type": "execute_result"
    }
   ],
   "source": [
    "sqlContext = SQLContext(spark.sparkContext)\n",
    "sqlContext"
   ]
  },
  {
   "cell_type": "code",
   "execution_count": 19,
   "id": "13160c41",
   "metadata": {},
   "outputs": [],
   "source": [
    "df_pyspark = spark.read.csv(\"mushrooms.csv\",inferSchema=True, header=True)"
   ]
  },
  {
   "cell_type": "code",
   "execution_count": 20,
   "id": "03732f3c",
   "metadata": {},
   "outputs": [
    {
     "name": "stdout",
     "output_type": "stream",
     "text": [
      "+-----+---------+-----------+---------+-------+----+---------------+------------+---------+----------+-----------+----------+------------------------+------------------------+----------------------+----------------------+---------+----------+-----------+---------+-----------------+----------+-------+\n",
      "|class|cap-shape|cap-surface|cap-color|bruises|odor|gill-attachment|gill-spacing|gill-size|gill-color|stalk-shape|stalk-root|stalk-surface-above-ring|stalk-surface-below-ring|stalk-color-above-ring|stalk-color-below-ring|veil-type|veil-color|ring-number|ring-type|spore-print-color|population|habitat|\n",
      "+-----+---------+-----------+---------+-------+----+---------------+------------+---------+----------+-----------+----------+------------------------+------------------------+----------------------+----------------------+---------+----------+-----------+---------+-----------------+----------+-------+\n",
      "|    p|        x|          s|        n|      t|   p|              f|           c|        n|         k|          e|         e|                       s|                       s|                     w|                     w|        p|         w|          o|        p|                k|         s|      u|\n",
      "|    e|        x|          s|        y|      t|   a|              f|           c|        b|         k|          e|         c|                       s|                       s|                     w|                     w|        p|         w|          o|        p|                n|         n|      g|\n",
      "|    e|        b|          s|        w|      t|   l|              f|           c|        b|         n|          e|         c|                       s|                       s|                     w|                     w|        p|         w|          o|        p|                n|         n|      m|\n",
      "|    p|        x|          y|        w|      t|   p|              f|           c|        n|         n|          e|         e|                       s|                       s|                     w|                     w|        p|         w|          o|        p|                k|         s|      u|\n",
      "|    e|        x|          s|        g|      f|   n|              f|           w|        b|         k|          t|         e|                       s|                       s|                     w|                     w|        p|         w|          o|        e|                n|         a|      g|\n",
      "+-----+---------+-----------+---------+-------+----+---------------+------------+---------+----------+-----------+----------+------------------------+------------------------+----------------------+----------------------+---------+----------+-----------+---------+-----------------+----------+-------+\n",
      "only showing top 5 rows\n",
      "\n"
     ]
    }
   ],
   "source": [
    "df_pyspark.show(5)"
   ]
  },
  {
   "cell_type": "code",
   "execution_count": 25,
   "id": "6f13b7f7",
   "metadata": {},
   "outputs": [
    {
     "name": "stdout",
     "output_type": "stream",
     "text": [
      "root\n",
      " |-- class: string (nullable = true)\n",
      " |-- cap-shape: string (nullable = true)\n",
      " |-- cap-surface: string (nullable = true)\n",
      " |-- cap-color: string (nullable = true)\n",
      " |-- bruises: string (nullable = true)\n",
      " |-- odor: string (nullable = true)\n",
      " |-- gill-attachment: string (nullable = true)\n",
      " |-- gill-spacing: string (nullable = true)\n",
      " |-- gill-size: string (nullable = true)\n",
      " |-- gill-color: string (nullable = true)\n",
      " |-- stalk-shape: string (nullable = true)\n",
      " |-- stalk-root: string (nullable = true)\n",
      " |-- stalk-surface-above-ring: string (nullable = true)\n",
      " |-- stalk-surface-below-ring: string (nullable = true)\n",
      " |-- stalk-color-above-ring: string (nullable = true)\n",
      " |-- stalk-color-below-ring: string (nullable = true)\n",
      " |-- veil-type: string (nullable = true)\n",
      " |-- veil-color: string (nullable = true)\n",
      " |-- ring-number: string (nullable = true)\n",
      " |-- ring-type: string (nullable = true)\n",
      " |-- spore-print-color: string (nullable = true)\n",
      " |-- population: string (nullable = true)\n",
      " |-- habitat: string (nullable = true)\n",
      "\n"
     ]
    }
   ],
   "source": [
    "df_pyspark.printSchema()"
   ]
  },
  {
   "cell_type": "code",
   "execution_count": 22,
   "id": "3445fd58",
   "metadata": {},
   "outputs": [],
   "source": [
    "from pyspark.ml.feature import StringIndexer"
   ]
  },
  {
   "cell_type": "code",
   "execution_count": 23,
   "id": "c0d99fcd",
   "metadata": {},
   "outputs": [],
   "source": [
    "columns = df_pyspark.columns"
   ]
  },
  {
   "cell_type": "code",
   "execution_count": 27,
   "id": "25cc4cd5",
   "metadata": {},
   "outputs": [],
   "source": [
    "for categoricalCol in columns:\n",
    "    stringIndexer = StringIndexer(inputCol = categoricalCol, outputCol = categoricalCol+\"_encoded\").fit(df_pyspark)\n",
    "    df_pyspark = stringIndexer.transform(df_pyspark)\n",
    "    df_pyspark = df_pyspark.withColumn(categoricalCol+\"_encoded\", df_pyspark[categoricalCol+\"_encoded\"].cast('int'))"
   ]
  },
  {
   "cell_type": "code",
   "execution_count": 28,
   "id": "33022674",
   "metadata": {},
   "outputs": [],
   "source": [
    "col_encoded = [col+'_encoded'for col in columns]\n",
    "\n",
    "encoded_df=df_pyspark.select(col_encoded)\n"
   ]
  },
  {
   "cell_type": "code",
   "execution_count": 29,
   "id": "a329746e",
   "metadata": {},
   "outputs": [
    {
     "name": "stdout",
     "output_type": "stream",
     "text": [
      "+-------------+-----------------+-------------------+-----------------+---------------+------------+-----------------------+--------------------+-----------------+------------------+-------------------+------------------+--------------------------------+--------------------------------+------------------------------+------------------------------+-----------------+------------------+-------------------+-----------------+-------------------------+------------------+---------------+\n",
      "|class_encoded|cap-shape_encoded|cap-surface_encoded|cap-color_encoded|bruises_encoded|odor_encoded|gill-attachment_encoded|gill-spacing_encoded|gill-size_encoded|gill-color_encoded|stalk-shape_encoded|stalk-root_encoded|stalk-surface-above-ring_encoded|stalk-surface-below-ring_encoded|stalk-color-above-ring_encoded|stalk-color-below-ring_encoded|veil-type_encoded|veil-color_encoded|ring-number_encoded|ring-type_encoded|spore-print-color_encoded|population_encoded|habitat_encoded|\n",
      "+-------------+-----------------+-------------------+-----------------+---------------+------------+-----------------------+--------------------+-----------------+------------------+-------------------+------------------+--------------------------------+--------------------------------+------------------------------+------------------------------+-----------------+------------------+-------------------+-----------------+-------------------------+------------------+---------------+\n",
      "|            1|                0|                  1|                0|              1|           6|                      0|                   0|                1|                 7|                  1|                 2|                               0|                               0|                             0|                             0|                0|                 0|                  0|                0|                        2|                 2|              4|\n",
      "|            0|                0|                  1|                3|              1|           4|                      0|                   0|                0|                 7|                  1|                 3|                               0|                               0|                             0|                             0|                0|                 0|                  0|                0|                        1|                 3|              1|\n",
      "|            0|                3|                  1|                4|              1|           5|                      0|                   0|                0|                 3|                  1|                 3|                               0|                               0|                             0|                             0|                0|                 0|                  0|                0|                        1|                 3|              5|\n",
      "|            1|                0|                  0|                4|              1|           6|                      0|                   0|                1|                 3|                  1|                 2|                               0|                               0|                             0|                             0|                0|                 0|                  0|                0|                        2|                 2|              4|\n",
      "|            0|                0|                  1|                1|              0|           0|                      0|                   1|                0|                 7|                  0|                 2|                               0|                               0|                             0|                             0|                0|                 0|                  0|                1|                        1|                 4|              1|\n",
      "+-------------+-----------------+-------------------+-----------------+---------------+------------+-----------------------+--------------------+-----------------+------------------+-------------------+------------------+--------------------------------+--------------------------------+------------------------------+------------------------------+-----------------+------------------+-------------------+-----------------+-------------------------+------------------+---------------+\n",
      "only showing top 5 rows\n",
      "\n"
     ]
    }
   ],
   "source": [
    "encoded_df.show(5)"
   ]
  },
  {
   "cell_type": "code",
   "execution_count": 30,
   "id": "150f4671",
   "metadata": {},
   "outputs": [],
   "source": [
    "from pyspark.ml.feature import VectorAssembler"
   ]
  },
  {
   "cell_type": "code",
   "execution_count": 31,
   "id": "67834b7a",
   "metadata": {},
   "outputs": [],
   "source": [
    "col_encoded.remove('class_encoded')"
   ]
  },
  {
   "cell_type": "code",
   "execution_count": 33,
   "id": "b75ddacb",
   "metadata": {},
   "outputs": [],
   "source": [
    "featureAssembler = VectorAssembler(inputCols=col_encoded,outputCol=\"features\")"
   ]
  },
  {
   "cell_type": "code",
   "execution_count": 34,
   "id": "33726d39",
   "metadata": {},
   "outputs": [],
   "source": [
    "output = featureAssembler.transform(encoded_df)"
   ]
  },
  {
   "cell_type": "code",
   "execution_count": 35,
   "id": "16f02691",
   "metadata": {},
   "outputs": [
    {
     "name": "stdout",
     "output_type": "stream",
     "text": [
      "+--------------------+-------------+\n",
      "|            features|class_encoded|\n",
      "+--------------------+-------------+\n",
      "|(22,[1,3,4,7,8,9,...|            1|\n",
      "|(22,[1,2,3,4,8,9,...|            0|\n",
      "|(22,[0,1,2,3,4,8,...|            0|\n",
      "|(22,[2,3,4,7,8,9,...|            1|\n",
      "|(22,[1,2,6,8,10,1...|            0|\n",
      "+--------------------+-------------+\n",
      "only showing top 5 rows\n",
      "\n"
     ]
    }
   ],
   "source": [
    "output.select(\"features\",\"class_encoded\").show(5)"
   ]
  },
  {
   "cell_type": "code",
   "execution_count": 40,
   "id": "22f63ac4",
   "metadata": {},
   "outputs": [
    {
     "data": {
      "text/plain": [
       "8124"
      ]
     },
     "execution_count": 40,
     "metadata": {},
     "output_type": "execute_result"
    }
   ],
   "source": [
    "nombre_de_lignes = df_pyspark.count()\n",
    "nombre_de_lignes"
   ]
  },
  {
   "cell_type": "code",
   "execution_count": 44,
   "id": "cab71725",
   "metadata": {},
   "outputs": [],
   "source": [
    "train, test = output.randomSplit([0.8, 0.2], seed=17)"
   ]
  },
  {
   "cell_type": "code",
   "execution_count": 45,
   "id": "8c72b244",
   "metadata": {},
   "outputs": [
    {
     "name": "stdout",
     "output_type": "stream",
     "text": [
      "size of training data: 6471\n",
      "Size of testing data: 1653\n"
     ]
    }
   ],
   "source": [
    "print(\"size of training data:\", train.count())\n",
    "print(\"Size of testing data:\",test.count())"
   ]
  },
  {
   "cell_type": "code",
   "execution_count": 46,
   "id": "214452a0",
   "metadata": {},
   "outputs": [],
   "source": [
    "from pyspark.ml.classification import LogisticRegression"
   ]
  },
  {
   "cell_type": "code",
   "execution_count": 49,
   "id": "3e9a1d2f",
   "metadata": {},
   "outputs": [],
   "source": [
    "lr = LogisticRegression(featuresCol = 'features', labelCol = 'class_encoded', maxIter=10)"
   ]
  },
  {
   "cell_type": "code",
   "execution_count": 50,
   "id": "b477bbd7",
   "metadata": {},
   "outputs": [],
   "source": [
    "lrModel = lr.fit(train)"
   ]
  },
  {
   "cell_type": "code",
   "execution_count": 51,
   "id": "77666002",
   "metadata": {},
   "outputs": [],
   "source": [
    "predictions = lrModel.transform(test)"
   ]
  },
  {
   "cell_type": "code",
   "execution_count": 52,
   "id": "4f122938",
   "metadata": {},
   "outputs": [
    {
     "name": "stdout",
     "output_type": "stream",
     "text": [
      "+-------------+-----------------+-------------------+-----------------+---------------+------------+-----------------------+--------------------+-----------------+------------------+-------------------+------------------+--------------------------------+--------------------------------+------------------------------+------------------------------+-----------------+------------------+-------------------+-----------------+-------------------------+------------------+---------------+--------------------+--------------------+--------------------+----------+\n",
      "|class_encoded|cap-shape_encoded|cap-surface_encoded|cap-color_encoded|bruises_encoded|odor_encoded|gill-attachment_encoded|gill-spacing_encoded|gill-size_encoded|gill-color_encoded|stalk-shape_encoded|stalk-root_encoded|stalk-surface-above-ring_encoded|stalk-surface-below-ring_encoded|stalk-color-above-ring_encoded|stalk-color-below-ring_encoded|veil-type_encoded|veil-color_encoded|ring-number_encoded|ring-type_encoded|spore-print-color_encoded|population_encoded|habitat_encoded|            features|       rawPrediction|         probability|prediction|\n",
      "+-------------+-----------------+-------------------+-----------------+---------------+------------+-----------------------+--------------------+-----------------+------------------+-------------------+------------------+--------------------------------+--------------------------------+------------------------------+------------------------------+-----------------+------------------+-------------------+-----------------+-------------------------+------------------+---------------+--------------------+--------------------+--------------------+----------+\n",
      "|            0|                0|                  0|                0|              0|           0|                      0|                   0|                0|                 2|                  1|                 0|                               3|                               3|                             3|                             3|                0|                 0|                  1|                0|                        0|                 1|              0|(22,[8,9,11,12,13...|[-13.001935995575...|[2.25595256313146...|       1.0|\n",
      "|            0|                0|                  0|                0|              1|           0|                      0|                   0|                0|                 1|                  0|                 0|                               0|                               0|                             0|                             0|                0|                 0|                  0|                0|                        1|                 0|              0|(22,[3,8,19],[1.0...|[4.34924746542390...|[0.98724818019234...|       0.0|\n",
      "|            0|                0|                  0|                0|              1|           0|                      0|                   0|                0|                 1|                  0|                 0|                               0|                               0|                             0|                             1|                0|                 0|                  0|                0|                        1|                 1|              0|(22,[3,8,14,19,20...|[4.71464232394643...|[0.99111655161229...|       0.0|\n",
      "|            0|                0|                  0|                0|              1|           0|                      0|                   0|                0|                 1|                  0|                 0|                               0|                               0|                             1|                             0|                0|                 0|                  0|                0|                        2|                 0|              0|(22,[3,8,13,19],[...|[4.39055792368841...|[0.98775791363336...|       0.0|\n",
      "|            0|                0|                  0|                0|              1|           0|                      0|                   0|                0|                 1|                  0|                 0|                               0|                               0|                             1|                             0|                0|                 0|                  0|                0|                        2|                 1|              0|(22,[3,8,13,19,20...|[4.63379505029886...|[0.99037571748552...|       0.0|\n",
      "+-------------+-----------------+-------------------+-----------------+---------------+------------+-----------------------+--------------------+-----------------+------------------+-------------------+------------------+--------------------------------+--------------------------------+------------------------------+------------------------------+-----------------+------------------+-------------------+-----------------+-------------------------+------------------+---------------+--------------------+--------------------+--------------------+----------+\n",
      "only showing top 5 rows\n",
      "\n"
     ]
    }
   ],
   "source": [
    "predictions.show(5)"
   ]
  },
  {
   "cell_type": "code",
   "execution_count": 53,
   "id": "213aa0f3",
   "metadata": {},
   "outputs": [],
   "source": [
    "from pyspark.ml.evaluation import MulticlassClassificationEvaluator"
   ]
  },
  {
   "cell_type": "code",
   "execution_count": 54,
   "id": "dd26b0b0",
   "metadata": {},
   "outputs": [],
   "source": [
    "evaluator = MulticlassClassificationEvaluator()"
   ]
  },
  {
   "cell_type": "code",
   "execution_count": 55,
   "id": "4f5e8b26",
   "metadata": {},
   "outputs": [
    {
     "data": {
      "text/plain": [
       "MulticlassClassificationEvaluator_b07e77837852"
      ]
     },
     "execution_count": 55,
     "metadata": {},
     "output_type": "execute_result"
    }
   ],
   "source": [
    "evaluator.setLabelCol(\"class_encoded\")"
   ]
  },
  {
   "cell_type": "code",
   "execution_count": 56,
   "id": "5485cf1a",
   "metadata": {},
   "outputs": [
    {
     "data": {
      "text/plain": [
       "MulticlassClassificationEvaluator_b07e77837852"
      ]
     },
     "execution_count": 56,
     "metadata": {},
     "output_type": "execute_result"
    }
   ],
   "source": [
    "evaluator.setPredictionCol(\"prediction\")"
   ]
  },
  {
   "cell_type": "code",
   "execution_count": 57,
   "id": "4e62bd9b",
   "metadata": {},
   "outputs": [
    {
     "data": {
      "text/plain": [
       "0.9915305505142167"
      ]
     },
     "execution_count": 57,
     "metadata": {},
     "output_type": "execute_result"
    }
   ],
   "source": [
    "evaluator.evaluate(predictions)"
   ]
  },
  {
   "cell_type": "code",
   "execution_count": 61,
   "id": "89f8a4e7",
   "metadata": {},
   "outputs": [
    {
     "data": {
      "text/plain": [
       "MulticlassClassificationEvaluator_f5cac889e758"
      ]
     },
     "execution_count": 61,
     "metadata": {},
     "output_type": "execute_result"
    },
    {
     "data": {
      "text/plain": [
       "MulticlassClassificationEvaluator_f5cac889e758"
      ]
     },
     "execution_count": 61,
     "metadata": {},
     "output_type": "execute_result"
    },
    {
     "name": "stdout",
     "output_type": "stream",
     "text": [
      " test Area Under ROC: 0.9915305505142167\n"
     ]
    }
   ],
   "source": [
    "from pyspark.ml.evaluation import MulticlassClassificationEvaluator\n",
    "evaluator=MulticlassClassificationEvaluator()\n",
    "evaluator.setLabelCol(\"class_encoded\")\n",
    "evaluator.setPredictionCol(\"prediction\")\n",
    "print(\" test Area Under ROC:\", evaluator.evaluate(predictions))"
   ]
  },
  {
   "cell_type": "code",
   "execution_count": null,
   "id": "fcd5e1d1",
   "metadata": {},
   "outputs": [],
   "source": []
  }
 ],
 "metadata": {
  "kernelspec": {
   "display_name": "Python 3 (ipykernel)",
   "language": "python",
   "name": "python3"
  },
  "language_info": {
   "codemirror_mode": {
    "name": "ipython",
    "version": 3
   },
   "file_extension": ".py",
   "mimetype": "text/x-python",
   "name": "python",
   "nbconvert_exporter": "python",
   "pygments_lexer": "ipython3",
   "version": "3.10.13"
  }
 },
 "nbformat": 4,
 "nbformat_minor": 5
}
